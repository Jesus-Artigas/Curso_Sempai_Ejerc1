{
 "cells": [
  {
   "cell_type": "code",
   "execution_count": 2,
   "metadata": {},
   "outputs": [
    {
     "name": "stdout",
     "output_type": "stream",
     "text": [
      "Requirement already satisfied: ipython-sql in c:\\users\\jessd\\appdata\\local\\programs\\python\\python310\\lib\\site-packages (0.4.1)\n",
      "Requirement already satisfied: six in c:\\users\\jessd\\appdata\\roaming\\python\\python310\\site-packages (from ipython-sql) (1.16.0)\n",
      "Requirement already satisfied: sqlparse in c:\\users\\jessd\\appdata\\local\\programs\\python\\python310\\lib\\site-packages (from ipython-sql) (0.4.2)\n",
      "Requirement already satisfied: ipython-genutils>=0.1.0 in c:\\users\\jessd\\appdata\\local\\programs\\python\\python310\\lib\\site-packages (from ipython-sql) (0.2.0)\n",
      "Requirement already satisfied: sqlalchemy>=0.6.7 in c:\\users\\jessd\\appdata\\local\\programs\\python\\python310\\lib\\site-packages (from ipython-sql) (1.4.41)\n",
      "Requirement already satisfied: ipython>=1.0 in c:\\users\\jessd\\appdata\\roaming\\python\\python310\\site-packages (from ipython-sql) (8.4.0)\n",
      "Requirement already satisfied: prettytable<1 in c:\\users\\jessd\\appdata\\local\\programs\\python\\python310\\lib\\site-packages (from ipython-sql) (0.7.2)\n",
      "Requirement already satisfied: jedi>=0.16 in c:\\users\\jessd\\appdata\\roaming\\python\\python310\\site-packages (from ipython>=1.0->ipython-sql) (0.18.1)\n",
      "Requirement already satisfied: traitlets>=5 in c:\\users\\jessd\\appdata\\roaming\\python\\python310\\site-packages (from ipython>=1.0->ipython-sql) (5.3.0)\n",
      "Requirement already satisfied: matplotlib-inline in c:\\users\\jessd\\appdata\\roaming\\python\\python310\\site-packages (from ipython>=1.0->ipython-sql) (0.1.6)\n",
      "Requirement already satisfied: prompt-toolkit!=3.0.0,!=3.0.1,<3.1.0,>=2.0.0 in c:\\users\\jessd\\appdata\\roaming\\python\\python310\\site-packages (from ipython>=1.0->ipython-sql) (3.0.31)\n",
      "Requirement already satisfied: setuptools>=18.5 in c:\\users\\jessd\\appdata\\local\\programs\\python\\python310\\lib\\site-packages (from ipython>=1.0->ipython-sql) (63.2.0)\n",
      "Requirement already satisfied: pygments>=2.4.0 in c:\\users\\jessd\\appdata\\roaming\\python\\python310\\site-packages (from ipython>=1.0->ipython-sql) (2.13.0)\n",
      "Requirement already satisfied: backcall in c:\\users\\jessd\\appdata\\roaming\\python\\python310\\site-packages (from ipython>=1.0->ipython-sql) (0.2.0)\n",
      "Requirement already satisfied: colorama in c:\\users\\jessd\\appdata\\roaming\\python\\python310\\site-packages (from ipython>=1.0->ipython-sql) (0.4.5)\n",
      "Requirement already satisfied: decorator in c:\\users\\jessd\\appdata\\roaming\\python\\python310\\site-packages (from ipython>=1.0->ipython-sql) (5.1.1)\n",
      "Requirement already satisfied: stack-data in c:\\users\\jessd\\appdata\\roaming\\python\\python310\\site-packages (from ipython>=1.0->ipython-sql) (0.5.0)\n",
      "Requirement already satisfied: pickleshare in c:\\users\\jessd\\appdata\\roaming\\python\\python310\\site-packages (from ipython>=1.0->ipython-sql) (0.7.5)\n",
      "Requirement already satisfied: greenlet!=0.4.17 in c:\\users\\jessd\\appdata\\local\\programs\\python\\python310\\lib\\site-packages (from sqlalchemy>=0.6.7->ipython-sql) (1.1.3)\n",
      "Requirement already satisfied: parso<0.9.0,>=0.8.0 in c:\\users\\jessd\\appdata\\roaming\\python\\python310\\site-packages (from jedi>=0.16->ipython>=1.0->ipython-sql) (0.8.3)\n",
      "Requirement already satisfied: wcwidth in c:\\users\\jessd\\appdata\\roaming\\python\\python310\\site-packages (from prompt-toolkit!=3.0.0,!=3.0.1,<3.1.0,>=2.0.0->ipython>=1.0->ipython-sql) (0.2.5)\n",
      "Requirement already satisfied: asttokens in c:\\users\\jessd\\appdata\\roaming\\python\\python310\\site-packages (from stack-data->ipython>=1.0->ipython-sql) (2.0.8)\n",
      "Requirement already satisfied: executing in c:\\users\\jessd\\appdata\\roaming\\python\\python310\\site-packages (from stack-data->ipython>=1.0->ipython-sql) (1.0.0)\n",
      "Requirement already satisfied: pure-eval in c:\\users\\jessd\\appdata\\roaming\\python\\python310\\site-packages (from stack-data->ipython>=1.0->ipython-sql) (0.2.2)\n",
      "Note: you may need to restart the kernel to use updated packages.\n"
     ]
    },
    {
     "name": "stderr",
     "output_type": "stream",
     "text": [
      "\n",
      "[notice] A new release of pip available: 22.2.1 -> 22.2.2\n",
      "[notice] To update, run: python.exe -m pip install --upgrade pip\n"
     ]
    }
   ],
   "source": [
    "#importando librerias\n",
    "import sqlite3\n",
    "import pandas as pd\n",
    "%pip install ipython-sql"
   ]
  },
  {
   "cell_type": "code",
   "execution_count": 3,
   "metadata": {},
   "outputs": [],
   "source": [
    "#creando conexion y cursor\n",
    "\n",
    "connec = sqlite3.connect(\"Car_Database.db\")\n",
    "cur = connec.cursor()\n"
   ]
  },
  {
   "cell_type": "code",
   "execution_count": 3,
   "metadata": {},
   "outputs": [
    {
     "name": "stdout",
     "output_type": "stream",
     "text": [
      "   customer_id first_name last_name      model_name  purchase_price\n",
      "0            2      Maria   Swabota  F12 Berlinetta          121300\n",
      "1            5     Minnie     Mouse           Extra           33000\n",
      "2            3      Jacob      Wong    The Brunette           26000\n",
      "3            1     Jeremy    Jacobs             Hat           24000\n",
      "4            6    Jessica    Parker          Orange           17200\n"
     ]
    }
   ],
   "source": [
    "#Generamos la Query de la primera premisa\n",
    "\n",
    "Cons_1 = \"\"\"Select CT.customer_id,\n",
    "                   CT.first_name,\n",
    "                   CT.last_name, \n",
    "                   MO.model_name,\n",
    "                   CO.purchase_price\n",
    "            From Customers CT, Models MO, Car_Vins CV\n",
    "            Left Join Customer_Ownership CO ON CT.customer_id=CO.customer_id\n",
    "            Where MO.model_id=CV.model_id and CV.vin=CO.vin\n",
    "            Order By CO.purchase_price desc \n",
    "            limit 10\n",
    "            \"\"\"\n",
    "\n",
    "df1 = pd.read_sql_query(Cons_1, connec)\n",
    "print(df1)"
   ]
  },
  {
   "cell_type": "code",
   "execution_count": 4,
   "metadata": {},
   "outputs": [],
   "source": [
    "#Guardamos la consulta como tabla \n",
    "df1.to_csv('Premisa_1.csv')"
   ]
  },
  {
   "cell_type": "code",
   "execution_count": 4,
   "metadata": {},
   "outputs": [
    {
     "name": "stdout",
     "output_type": "stream",
     "text": [
      "    model_id      model_name  model_base_price  brand_id\n",
      "0          1      The Blonde             23000         1\n",
      "1          2    The Brunette             25000         1\n",
      "2          3    The Red Head             29000         1\n",
      "3          4             Hat             22000         2\n",
      "4          5         Sweater             25000         2\n",
      "5          6         T-Shirt             27000         2\n",
      "6          7          Orange             15000         3\n",
      "7          8            Blue             12000         3\n",
      "8          9           Green             17000         3\n",
      "9         10       LaFerrari            125000         4\n",
      "10        11             450             75000         4\n",
      "11        12  F12 Berlinetta            110000         4\n",
      "12        13             F40            100000         4\n",
      "13        14           Extra             30000         5\n",
      "14        15        Too Much             35000         5\n",
      "15        16           Beats             24000         6\n",
      "16        17            Bars             35000         6\n"
     ]
    }
   ],
   "source": [
    "Cons_2 = \"\"\"Select * from models\n",
    "            \"\"\"\n",
    "\n",
    "df2 = pd.read_sql_query(Cons_2, connec)\n",
    "print(df2)"
   ]
  },
  {
   "cell_type": "code",
   "execution_count": 18,
   "metadata": {},
   "outputs": [
    {
     "name": "stdout",
     "output_type": "stream",
     "text": [
      "       brand_name  Cant_Dealers\n",
      "0         Supreme             3\n",
      "1         Boujiee             3\n",
      "2          Yellow             2\n",
      "3        Freshest             2\n",
      "4  Cover Squirrel             2\n",
      "5         Ferrari             1\n"
     ]
    }
   ],
   "source": [
    "#Generamos la Query de la tercera premisa\n",
    "Cons_3 = \"\"\"Select BS.brand_name, count(DB.brand_id) as Cant_Dealers \n",
    "            From Brands BS, Dealer_Brand DB\n",
    "            Where DB.brand_id=BS.brand_id\n",
    "            Group By BS.brand_name\n",
    "            Order By Cant_Dealers desc\n",
    "            \"\"\"\n",
    "\n",
    "df3 = pd.read_sql_query(Cons_3, connec)\n",
    "print(df3)"
   ]
  },
  {
   "cell_type": "code",
   "execution_count": 19,
   "metadata": {},
   "outputs": [],
   "source": [
    "df3.to_csv('Premisa_3.csv')"
   ]
  },
  {
   "cell_type": "code",
   "execution_count": 22,
   "metadata": {},
   "outputs": [
    {
     "name": "stdout",
     "output_type": "stream",
     "text": [
      "   dealer_id dealer_name  Cant_Customer\n",
      "0          1  Joes Autos              2\n",
      "1          4  Priority Z              1\n",
      "2          3  Priority Y              1\n",
      "3          2  Priority X              1\n"
     ]
    }
   ],
   "source": [
    "#Generamos la Query de la cuarta premisa\n",
    "Cons_4 = \"\"\"Select DE.dealer_id, DE.dealer_name, count(CO.customer_id) as Cant_Customer\n",
    "            From Customer_Ownership CO, Dealers DE\n",
    "            Where CO.dealer_id=DE.dealer_id\n",
    "            Group By DE.dealer_name\n",
    "            Order By Cant_Customer desc\n",
    "            \"\"\"\n",
    "\n",
    "df4 = pd.read_sql_query(Cons_4, connec)\n",
    "print(df4)"
   ]
  },
  {
   "cell_type": "code",
   "execution_count": 23,
   "metadata": {},
   "outputs": [],
   "source": [
    "df4.to_csv('Premisa_4.csv')"
   ]
  }
 ],
 "metadata": {
  "kernelspec": {
   "display_name": "Python 3.10.6 64-bit",
   "language": "python",
   "name": "python3"
  },
  "language_info": {
   "codemirror_mode": {
    "name": "ipython",
    "version": 3
   },
   "file_extension": ".py",
   "mimetype": "text/x-python",
   "name": "python",
   "nbconvert_exporter": "python",
   "pygments_lexer": "ipython3",
   "version": "3.10.6"
  },
  "orig_nbformat": 4,
  "vscode": {
   "interpreter": {
    "hash": "f1efed72db2ccaa73ec5f4666924497a8a644cdf5b57283ddc69aa38a5cb523a"
   }
  }
 },
 "nbformat": 4,
 "nbformat_minor": 2
}
